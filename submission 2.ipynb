{
  "nbformat": 4,
  "nbformat_minor": 0,
  "metadata": {
    "colab": {
      "name": "Untitled3.ipynb",
      "provenance": []
    },
    "kernelspec": {
      "display_name": "Python 3",
      "name": "python3"
    },
    "language_info": {
      "name": "python"
    }
  },
  "cells": [
    {
      "cell_type": "markdown",
      "metadata": {
        "id": "eXoIe6DzklEv"
      },
      "source": [
        "Nama : Ahmad Sholihin\n",
        "\n",
        "Email : asholeeqeen41@gmail.com"
      ]
    },
    {
      "cell_type": "code",
      "metadata": {
        "id": "M1Ta6k5fwqNZ"
      },
      "source": [
        "!pip install -q keras"
      ],
      "execution_count": null,
      "outputs": []
    },
    {
      "cell_type": "code",
      "metadata": {
        "id": "X0gIZuFTpMRm"
      },
      "source": [
        "# Impor library yang di perlukan\n",
        "import keras\n",
        "import numpy as np\n",
        "import pandas as pd\n",
        "from keras.layers import Bidirectional\n",
        "from keras.layers import Dense, LSTM, Dropout\n",
        "import matplotlib.pyplot as plt\n",
        "import tensorflow as tf"
      ],
      "execution_count": 21,
      "outputs": []
    },
    {
      "cell_type": "code",
      "metadata": {
        "colab": {
          "base_uri": "https://localhost:8080/",
          "height": 609
        },
        "id": "MWxlrm6Tqg0X",
        "outputId": "997f947d-3b69-4178-dd3d-8e80722e113f"
      },
      "source": [
        "data_train = pd.read_csv('openweatherdata-denpasar-2010-2020.csv')\n",
        "data_train"
      ],
      "execution_count": 22,
      "outputs": [
        {
          "output_type": "execute_result",
          "data": {
            "text/html": [
              "<div>\n",
              "<style scoped>\n",
              "    .dataframe tbody tr th:only-of-type {\n",
              "        vertical-align: middle;\n",
              "    }\n",
              "\n",
              "    .dataframe tbody tr th {\n",
              "        vertical-align: top;\n",
              "    }\n",
              "\n",
              "    .dataframe thead th {\n",
              "        text-align: right;\n",
              "    }\n",
              "</style>\n",
              "<table border=\"1\" class=\"dataframe\">\n",
              "  <thead>\n",
              "    <tr style=\"text-align: right;\">\n",
              "      <th></th>\n",
              "      <th>dt_iso</th>\n",
              "      <th>timezone</th>\n",
              "      <th>city_name</th>\n",
              "      <th>lat</th>\n",
              "      <th>lon</th>\n",
              "      <th>temp</th>\n",
              "      <th>temp_min</th>\n",
              "      <th>temp_max</th>\n",
              "      <th>pressure</th>\n",
              "      <th>humidity</th>\n",
              "      <th>wind_speed</th>\n",
              "      <th>wind_deg</th>\n",
              "      <th>rain_1h</th>\n",
              "      <th>rain_3h</th>\n",
              "      <th>rain_6h</th>\n",
              "      <th>rain_12h</th>\n",
              "      <th>rain_24h</th>\n",
              "      <th>rain_today</th>\n",
              "      <th>snow_1h</th>\n",
              "      <th>snow_3h</th>\n",
              "      <th>snow_6h</th>\n",
              "      <th>snow_12h</th>\n",
              "      <th>snow_24h</th>\n",
              "      <th>snow_today</th>\n",
              "      <th>clouds_all</th>\n",
              "      <th>weather_id</th>\n",
              "      <th>weather_main</th>\n",
              "      <th>weather_description</th>\n",
              "      <th>weather_icon</th>\n",
              "    </tr>\n",
              "  </thead>\n",
              "  <tbody>\n",
              "    <tr>\n",
              "      <th>0</th>\n",
              "      <td>1/1/2010 0:00</td>\n",
              "      <td>28800</td>\n",
              "      <td>Denpasar</td>\n",
              "      <td>-8.652497</td>\n",
              "      <td>115.219117</td>\n",
              "      <td>27.18</td>\n",
              "      <td>27.0</td>\n",
              "      <td>27.4</td>\n",
              "      <td>1007.9</td>\n",
              "      <td>87</td>\n",
              "      <td>3.1</td>\n",
              "      <td>310</td>\n",
              "      <td>NaN</td>\n",
              "      <td>NaN</td>\n",
              "      <td>NaN</td>\n",
              "      <td>NaN</td>\n",
              "      <td>6.1</td>\n",
              "      <td>NaN</td>\n",
              "      <td>NaN</td>\n",
              "      <td>NaN</td>\n",
              "      <td>NaN</td>\n",
              "      <td>NaN</td>\n",
              "      <td>NaN</td>\n",
              "      <td>NaN</td>\n",
              "      <td>40</td>\n",
              "      <td>802</td>\n",
              "      <td>Clouds</td>\n",
              "      <td>scattered clouds</td>\n",
              "      <td>03d</td>\n",
              "    </tr>\n",
              "    <tr>\n",
              "      <th>1</th>\n",
              "      <td>1/1/2010 1:00</td>\n",
              "      <td>28800</td>\n",
              "      <td>Denpasar</td>\n",
              "      <td>-8.652497</td>\n",
              "      <td>115.219117</td>\n",
              "      <td>28.03</td>\n",
              "      <td>27.4</td>\n",
              "      <td>29.0</td>\n",
              "      <td>1008.1</td>\n",
              "      <td>83</td>\n",
              "      <td>3.1</td>\n",
              "      <td>280</td>\n",
              "      <td>NaN</td>\n",
              "      <td>NaN</td>\n",
              "      <td>NaN</td>\n",
              "      <td>NaN</td>\n",
              "      <td>6.1</td>\n",
              "      <td>NaN</td>\n",
              "      <td>NaN</td>\n",
              "      <td>NaN</td>\n",
              "      <td>NaN</td>\n",
              "      <td>NaN</td>\n",
              "      <td>NaN</td>\n",
              "      <td>NaN</td>\n",
              "      <td>40</td>\n",
              "      <td>802</td>\n",
              "      <td>Clouds</td>\n",
              "      <td>scattered clouds</td>\n",
              "      <td>03d</td>\n",
              "    </tr>\n",
              "    <tr>\n",
              "      <th>2</th>\n",
              "      <td>1/1/2010 2:00</td>\n",
              "      <td>28800</td>\n",
              "      <td>Denpasar</td>\n",
              "      <td>-8.652497</td>\n",
              "      <td>115.219117</td>\n",
              "      <td>29.88</td>\n",
              "      <td>29.8</td>\n",
              "      <td>30.0</td>\n",
              "      <td>1008.1</td>\n",
              "      <td>74</td>\n",
              "      <td>4.6</td>\n",
              "      <td>280</td>\n",
              "      <td>NaN</td>\n",
              "      <td>NaN</td>\n",
              "      <td>NaN</td>\n",
              "      <td>NaN</td>\n",
              "      <td>NaN</td>\n",
              "      <td>NaN</td>\n",
              "      <td>NaN</td>\n",
              "      <td>NaN</td>\n",
              "      <td>NaN</td>\n",
              "      <td>NaN</td>\n",
              "      <td>NaN</td>\n",
              "      <td>NaN</td>\n",
              "      <td>40</td>\n",
              "      <td>802</td>\n",
              "      <td>Clouds</td>\n",
              "      <td>scattered clouds</td>\n",
              "      <td>03d</td>\n",
              "    </tr>\n",
              "    <tr>\n",
              "      <th>3</th>\n",
              "      <td>1/1/2010 3:00</td>\n",
              "      <td>28800</td>\n",
              "      <td>Denpasar</td>\n",
              "      <td>-8.652497</td>\n",
              "      <td>115.219117</td>\n",
              "      <td>29.90</td>\n",
              "      <td>29.8</td>\n",
              "      <td>30.0</td>\n",
              "      <td>1008.1</td>\n",
              "      <td>79</td>\n",
              "      <td>3.6</td>\n",
              "      <td>260</td>\n",
              "      <td>NaN</td>\n",
              "      <td>NaN</td>\n",
              "      <td>NaN</td>\n",
              "      <td>NaN</td>\n",
              "      <td>NaN</td>\n",
              "      <td>NaN</td>\n",
              "      <td>NaN</td>\n",
              "      <td>NaN</td>\n",
              "      <td>NaN</td>\n",
              "      <td>NaN</td>\n",
              "      <td>NaN</td>\n",
              "      <td>NaN</td>\n",
              "      <td>40</td>\n",
              "      <td>802</td>\n",
              "      <td>Clouds</td>\n",
              "      <td>scattered clouds</td>\n",
              "      <td>03d</td>\n",
              "    </tr>\n",
              "    <tr>\n",
              "      <th>4</th>\n",
              "      <td>1/1/2010 4:00</td>\n",
              "      <td>28800</td>\n",
              "      <td>Denpasar</td>\n",
              "      <td>-8.652497</td>\n",
              "      <td>115.219117</td>\n",
              "      <td>30.27</td>\n",
              "      <td>29.8</td>\n",
              "      <td>31.0</td>\n",
              "      <td>1007.1</td>\n",
              "      <td>74</td>\n",
              "      <td>4.1</td>\n",
              "      <td>260</td>\n",
              "      <td>NaN</td>\n",
              "      <td>NaN</td>\n",
              "      <td>NaN</td>\n",
              "      <td>NaN</td>\n",
              "      <td>NaN</td>\n",
              "      <td>NaN</td>\n",
              "      <td>NaN</td>\n",
              "      <td>NaN</td>\n",
              "      <td>NaN</td>\n",
              "      <td>NaN</td>\n",
              "      <td>NaN</td>\n",
              "      <td>NaN</td>\n",
              "      <td>40</td>\n",
              "      <td>802</td>\n",
              "      <td>Clouds</td>\n",
              "      <td>scattered clouds</td>\n",
              "      <td>03d</td>\n",
              "    </tr>\n",
              "    <tr>\n",
              "      <th>...</th>\n",
              "      <td>...</td>\n",
              "      <td>...</td>\n",
              "      <td>...</td>\n",
              "      <td>...</td>\n",
              "      <td>...</td>\n",
              "      <td>...</td>\n",
              "      <td>...</td>\n",
              "      <td>...</td>\n",
              "      <td>...</td>\n",
              "      <td>...</td>\n",
              "      <td>...</td>\n",
              "      <td>...</td>\n",
              "      <td>...</td>\n",
              "      <td>...</td>\n",
              "      <td>...</td>\n",
              "      <td>...</td>\n",
              "      <td>...</td>\n",
              "      <td>...</td>\n",
              "      <td>...</td>\n",
              "      <td>...</td>\n",
              "      <td>...</td>\n",
              "      <td>...</td>\n",
              "      <td>...</td>\n",
              "      <td>...</td>\n",
              "      <td>...</td>\n",
              "      <td>...</td>\n",
              "      <td>...</td>\n",
              "      <td>...</td>\n",
              "      <td>...</td>\n",
              "    </tr>\n",
              "    <tr>\n",
              "      <th>88711</th>\n",
              "      <td>1/7/2020 19:00</td>\n",
              "      <td>28800</td>\n",
              "      <td>Denpasar</td>\n",
              "      <td>-8.652497</td>\n",
              "      <td>115.219117</td>\n",
              "      <td>27.00</td>\n",
              "      <td>27.0</td>\n",
              "      <td>27.0</td>\n",
              "      <td>1007.0</td>\n",
              "      <td>94</td>\n",
              "      <td>4.1</td>\n",
              "      <td>300</td>\n",
              "      <td>NaN</td>\n",
              "      <td>NaN</td>\n",
              "      <td>NaN</td>\n",
              "      <td>NaN</td>\n",
              "      <td>NaN</td>\n",
              "      <td>NaN</td>\n",
              "      <td>NaN</td>\n",
              "      <td>NaN</td>\n",
              "      <td>NaN</td>\n",
              "      <td>NaN</td>\n",
              "      <td>NaN</td>\n",
              "      <td>NaN</td>\n",
              "      <td>75</td>\n",
              "      <td>803</td>\n",
              "      <td>Clouds</td>\n",
              "      <td>broken clouds</td>\n",
              "      <td>04n</td>\n",
              "    </tr>\n",
              "    <tr>\n",
              "      <th>88712</th>\n",
              "      <td>1/7/2020 20:00</td>\n",
              "      <td>28800</td>\n",
              "      <td>Denpasar</td>\n",
              "      <td>-8.652497</td>\n",
              "      <td>115.219117</td>\n",
              "      <td>27.00</td>\n",
              "      <td>27.0</td>\n",
              "      <td>27.0</td>\n",
              "      <td>1007.0</td>\n",
              "      <td>94</td>\n",
              "      <td>5.7</td>\n",
              "      <td>300</td>\n",
              "      <td>NaN</td>\n",
              "      <td>NaN</td>\n",
              "      <td>NaN</td>\n",
              "      <td>NaN</td>\n",
              "      <td>NaN</td>\n",
              "      <td>NaN</td>\n",
              "      <td>NaN</td>\n",
              "      <td>NaN</td>\n",
              "      <td>NaN</td>\n",
              "      <td>NaN</td>\n",
              "      <td>NaN</td>\n",
              "      <td>NaN</td>\n",
              "      <td>75</td>\n",
              "      <td>803</td>\n",
              "      <td>Clouds</td>\n",
              "      <td>broken clouds</td>\n",
              "      <td>04n</td>\n",
              "    </tr>\n",
              "    <tr>\n",
              "      <th>88713</th>\n",
              "      <td>1/7/2020 21:00</td>\n",
              "      <td>28800</td>\n",
              "      <td>Denpasar</td>\n",
              "      <td>-8.652497</td>\n",
              "      <td>115.219117</td>\n",
              "      <td>28.00</td>\n",
              "      <td>28.0</td>\n",
              "      <td>28.0</td>\n",
              "      <td>1007.0</td>\n",
              "      <td>83</td>\n",
              "      <td>6.7</td>\n",
              "      <td>290</td>\n",
              "      <td>NaN</td>\n",
              "      <td>NaN</td>\n",
              "      <td>NaN</td>\n",
              "      <td>NaN</td>\n",
              "      <td>NaN</td>\n",
              "      <td>NaN</td>\n",
              "      <td>NaN</td>\n",
              "      <td>NaN</td>\n",
              "      <td>NaN</td>\n",
              "      <td>NaN</td>\n",
              "      <td>NaN</td>\n",
              "      <td>NaN</td>\n",
              "      <td>75</td>\n",
              "      <td>803</td>\n",
              "      <td>Clouds</td>\n",
              "      <td>broken clouds</td>\n",
              "      <td>04n</td>\n",
              "    </tr>\n",
              "    <tr>\n",
              "      <th>88714</th>\n",
              "      <td>1/7/2020 22:00</td>\n",
              "      <td>28800</td>\n",
              "      <td>Denpasar</td>\n",
              "      <td>-8.652497</td>\n",
              "      <td>115.219117</td>\n",
              "      <td>28.00</td>\n",
              "      <td>28.0</td>\n",
              "      <td>28.0</td>\n",
              "      <td>1007.0</td>\n",
              "      <td>83</td>\n",
              "      <td>6.2</td>\n",
              "      <td>290</td>\n",
              "      <td>NaN</td>\n",
              "      <td>NaN</td>\n",
              "      <td>NaN</td>\n",
              "      <td>NaN</td>\n",
              "      <td>NaN</td>\n",
              "      <td>NaN</td>\n",
              "      <td>NaN</td>\n",
              "      <td>NaN</td>\n",
              "      <td>NaN</td>\n",
              "      <td>NaN</td>\n",
              "      <td>NaN</td>\n",
              "      <td>NaN</td>\n",
              "      <td>40</td>\n",
              "      <td>802</td>\n",
              "      <td>Clouds</td>\n",
              "      <td>scattered clouds</td>\n",
              "      <td>03n</td>\n",
              "    </tr>\n",
              "    <tr>\n",
              "      <th>88715</th>\n",
              "      <td>1/7/2020 23:00</td>\n",
              "      <td>28800</td>\n",
              "      <td>Denpasar</td>\n",
              "      <td>-8.652497</td>\n",
              "      <td>115.219117</td>\n",
              "      <td>28.00</td>\n",
              "      <td>28.0</td>\n",
              "      <td>28.0</td>\n",
              "      <td>1008.0</td>\n",
              "      <td>83</td>\n",
              "      <td>5.7</td>\n",
              "      <td>300</td>\n",
              "      <td>NaN</td>\n",
              "      <td>NaN</td>\n",
              "      <td>NaN</td>\n",
              "      <td>NaN</td>\n",
              "      <td>NaN</td>\n",
              "      <td>NaN</td>\n",
              "      <td>NaN</td>\n",
              "      <td>NaN</td>\n",
              "      <td>NaN</td>\n",
              "      <td>NaN</td>\n",
              "      <td>NaN</td>\n",
              "      <td>NaN</td>\n",
              "      <td>40</td>\n",
              "      <td>802</td>\n",
              "      <td>Clouds</td>\n",
              "      <td>scattered clouds</td>\n",
              "      <td>03d</td>\n",
              "    </tr>\n",
              "  </tbody>\n",
              "</table>\n",
              "<p>88716 rows × 29 columns</p>\n",
              "</div>"
            ],
            "text/plain": [
              "               dt_iso  timezone  ... weather_description  weather_icon\n",
              "0       1/1/2010 0:00     28800  ...    scattered clouds           03d\n",
              "1       1/1/2010 1:00     28800  ...    scattered clouds           03d\n",
              "2       1/1/2010 2:00     28800  ...    scattered clouds           03d\n",
              "3       1/1/2010 3:00     28800  ...    scattered clouds           03d\n",
              "4       1/1/2010 4:00     28800  ...    scattered clouds           03d\n",
              "...               ...       ...  ...                 ...           ...\n",
              "88711  1/7/2020 19:00     28800  ...       broken clouds           04n\n",
              "88712  1/7/2020 20:00     28800  ...       broken clouds           04n\n",
              "88713  1/7/2020 21:00     28800  ...       broken clouds           04n\n",
              "88714  1/7/2020 22:00     28800  ...    scattered clouds           03n\n",
              "88715  1/7/2020 23:00     28800  ...    scattered clouds           03d\n",
              "\n",
              "[88716 rows x 29 columns]"
            ]
          },
          "metadata": {
            "tags": []
          },
          "execution_count": 22
        }
      ]
    },
    {
      "cell_type": "code",
      "metadata": {
        "colab": {
          "base_uri": "https://localhost:8080/"
        },
        "id": "rsb_JyXSqybn",
        "outputId": "b0cc5ed0-65a4-4a2f-e17a-d2194d43ad3a"
      },
      "source": [
        "# Untuk menampilkan jumlah colomns dan data\n",
        "data_train.info()"
      ],
      "execution_count": 23,
      "outputs": [
        {
          "output_type": "stream",
          "text": [
            "<class 'pandas.core.frame.DataFrame'>\n",
            "RangeIndex: 88716 entries, 0 to 88715\n",
            "Data columns (total 29 columns):\n",
            " #   Column               Non-Null Count  Dtype  \n",
            "---  ------               --------------  -----  \n",
            " 0   dt_iso               88716 non-null  object \n",
            " 1   timezone             88716 non-null  int64  \n",
            " 2   city_name            88716 non-null  object \n",
            " 3   lat                  88716 non-null  float64\n",
            " 4   lon                  88716 non-null  float64\n",
            " 5   temp                 88716 non-null  float64\n",
            " 6   temp_min             88716 non-null  float64\n",
            " 7   temp_max             88716 non-null  float64\n",
            " 8   pressure             88716 non-null  float64\n",
            " 9   humidity             88716 non-null  int64  \n",
            " 10  wind_speed           88716 non-null  float64\n",
            " 11  wind_deg             88716 non-null  int64  \n",
            " 12  rain_1h              913 non-null    float64\n",
            " 13  rain_3h              8324 non-null   float64\n",
            " 14  rain_6h              4079 non-null   float64\n",
            " 15  rain_12h             3 non-null      float64\n",
            " 16  rain_24h             3414 non-null   float64\n",
            " 17  rain_today           0 non-null      float64\n",
            " 18  snow_1h              0 non-null      float64\n",
            " 19  snow_3h              0 non-null      float64\n",
            " 20  snow_6h              0 non-null      float64\n",
            " 21  snow_12h             0 non-null      float64\n",
            " 22  snow_24h             0 non-null      float64\n",
            " 23  snow_today           0 non-null      float64\n",
            " 24  clouds_all           88716 non-null  int64  \n",
            " 25  weather_id           88716 non-null  int64  \n",
            " 26  weather_main         88716 non-null  object \n",
            " 27  weather_description  88716 non-null  object \n",
            " 28  weather_icon         88716 non-null  object \n",
            "dtypes: float64(19), int64(5), object(5)\n",
            "memory usage: 19.6+ MB\n"
          ],
          "name": "stdout"
        }
      ]
    },
    {
      "cell_type": "code",
      "metadata": {
        "colab": {
          "base_uri": "https://localhost:8080/"
        },
        "id": "x1pROgwhxop5",
        "outputId": "73ebdbd8-8d26-42cd-a7bd-3f91d9c184b0"
      },
      "source": [
        "data_train.isnull().sum()"
      ],
      "execution_count": 24,
      "outputs": [
        {
          "output_type": "execute_result",
          "data": {
            "text/plain": [
              "dt_iso                     0\n",
              "timezone                   0\n",
              "city_name                  0\n",
              "lat                        0\n",
              "lon                        0\n",
              "temp                       0\n",
              "temp_min                   0\n",
              "temp_max                   0\n",
              "pressure                   0\n",
              "humidity                   0\n",
              "wind_speed                 0\n",
              "wind_deg                   0\n",
              "rain_1h                87803\n",
              "rain_3h                80392\n",
              "rain_6h                84637\n",
              "rain_12h               88713\n",
              "rain_24h               85302\n",
              "rain_today             88716\n",
              "snow_1h                88716\n",
              "snow_3h                88716\n",
              "snow_6h                88716\n",
              "snow_12h               88716\n",
              "snow_24h               88716\n",
              "snow_today             88716\n",
              "clouds_all                 0\n",
              "weather_id                 0\n",
              "weather_main               0\n",
              "weather_description        0\n",
              "weather_icon               0\n",
              "dtype: int64"
            ]
          },
          "metadata": {
            "tags": []
          },
          "execution_count": 24
        }
      ]
    },
    {
      "cell_type": "code",
      "metadata": {
        "colab": {
          "base_uri": "https://localhost:8080/"
        },
        "id": "ndwDW3jorFMi",
        "outputId": "b936c44a-223d-4520-d71f-8d2deaccd1f8"
      },
      "source": [
        "date = data_train['dt_iso']\n",
        "temperatur = data_train['temp']\n",
        "print(temperatur.shape)\n",
        "print(temperatur)"
      ],
      "execution_count": 25,
      "outputs": [
        {
          "output_type": "stream",
          "text": [
            "(88716,)\n",
            "0        27.18\n",
            "1        28.03\n",
            "2        29.88\n",
            "3        29.90\n",
            "4        30.27\n",
            "         ...  \n",
            "88711    27.00\n",
            "88712    27.00\n",
            "88713    28.00\n",
            "88714    28.00\n",
            "88715    28.00\n",
            "Name: temp, Length: 88716, dtype: float64\n"
          ],
          "name": "stdout"
        }
      ]
    },
    {
      "cell_type": "code",
      "metadata": {
        "id": "3lX8_lwWrXmk",
        "colab": {
          "base_uri": "https://localhost:8080/",
          "height": 341
        },
        "outputId": "6db10bed-2114-4ad3-bfa7-f615682b302e"
      },
      "source": [
        "date = data_train['dt_iso'].values\n",
        "temperatur = data_train['temp'].values\n",
        "\n",
        "plt.figure(figsize=(16,5))\n",
        "plt.plot(date, temperatur)\n",
        "plt.title('Temperature of Denpasar City', fontsize=20);"
      ],
      "execution_count": 27,
      "outputs": [
        {
          "output_type": "display_data",
          "data": {
            "image/png": "[encoded data removed]",
            "text/plain": [
              "<Figure size 1152x360 with 1 Axes>"
            ]
          },
          "metadata": {
            "tags": [],
            "needs_background": "light"
          }
        }
      ]
    },
    {
      "cell_type": "code",
      "metadata": {
        "colab": {
          "base_uri": "https://localhost:8080/"
        },
        "id": "YOkLMuIh4xT9",
        "outputId": "ae65f397-5bab-4b8c-920a-a360305b3da3"
      },
      "source": [
        "from sklearn.model_selection import train_test_split\n",
        "X_train, X_validation, y_train, y_validation = train_test_split(temperatur, date, test_size = 0.2, random_state = 42)\n",
        "print(\"X Train= \",len(X_train))\n",
        "print(\"X Vaidation= \",len(X_validation))\n",
        "print(\"Y train= \",len(y_train))\n",
        "print(\"Y Validation= \",len(y_validation))"
      ],
      "execution_count": 28,
      "outputs": [
        {
          "output_type": "stream",
          "text": [
            "X Train=  70972\n",
            "X Vaidation=  17744\n",
            "Y train=  70972\n",
            "Y Validation=  17744\n"
          ],
          "name": "stdout"
        }
      ]
    },
    {
      "cell_type": "code",
      "metadata": {
        "id": "-VLm17sZ5DxZ"
      },
      "source": [
        "def windowed_dataset(series, window_size, batch_size, shuffle_buffer):\n",
        "  series = tf.expand_dims(series, axis=-1)\n",
        "  ds = tf.data.Dataset.from_tensor_slices(series)\n",
        "  ds = ds.window(window_size + 1, shift=1, drop_remainder = True)\n",
        "  ds = ds.flat_map(lambda w: w.batch(window_size + 1))\n",
        "  ds = ds.shuffle(shuffle_buffer)\n",
        "  ds = ds.map(lambda w: (w[:-1], w[-1:]))\n",
        "  return ds.batch(batch_size).prefetch(1)"
      ],
      "execution_count": 29,
      "outputs": []
    },
    {
      "cell_type": "code",
      "metadata": {
        "id": "O_RVItJY5Rdi"
      },
      "source": [
        "tf.keras.backend.set_floatx('float64')\n",
        "train_set = windowed_dataset(X_train, window_size=64, batch_size=64, shuffle_buffer=1000)\n",
        "validation_set = windowed_dataset(X_validation, window_size=64, batch_size=64, shuffle_buffer=1000)\n",
        "model = tf.keras.models.Sequential([\n",
        "  tf.keras.layers.LSTM(60, return_sequences=True),\n",
        "  tf.keras.layers.LSTM(60),\n",
        "  tf.keras.layers.Dense(30, activation=\"relu\"),\n",
        "  tf.keras.layers.Dense(10, activation=\"relu\"), \n",
        "  tf.keras.layers.Dense(1),\n",
        "])"
      ],
      "execution_count": 30,
      "outputs": []
    },
    {
      "cell_type": "code",
      "metadata": {
        "colab": {
          "base_uri": "https://localhost:8080/"
        },
        "id": "SRKkQZMM1Rms",
        "outputId": "cdd04366-575d-41a9-dd49-d51317721eb5"
      },
      "source": [
        "temperatur = np.array(data_train['temp'])\n",
        "Mae = (data_train['temp'].max() - data_train['temp'].min()) * 0.1\n",
        "print(temperatur)\n",
        "print(\"temperature terkecil\\t= \", temperatur.min())\n",
        "print(\"temperature terbesar\\t= \", temperatur.max())\n",
        "print(\"temperature rata-rata\\t= \", temperatur.mean())\n",
        "print(\"MAE\\t\\t\\t= \",Mae)"
      ],
      "execution_count": 33,
      "outputs": [
        {
          "output_type": "stream",
          "text": [
            "[27.18 28.03 29.88 ... 28.   28.   28.  ]\n",
            "temperature terkecil\t=  15.0\n",
            "temperature terbesar\t=  35.54\n",
            "temperature rata-rata\t=  27.514082465395198\n",
            "MAE\t\t\t=  2.054\n"
          ],
          "name": "stdout"
        }
      ]
    },
    {
      "cell_type": "code",
      "metadata": {
        "id": "1X3bDo9KWDwE"
      },
      "source": [
        "optimizer = tf.keras.optimizers.SGD(learning_rate=1.0000e-04, momentum=0.9)\n",
        "model.compile(loss=tf.keras.losses.Huber(),\n",
        "              optimizer=optimizer,metrics=[\"mae\"])"
      ],
      "execution_count": 34,
      "outputs": []
    },
    {
      "cell_type": "code",
      "metadata": {
        "id": "mZJv_69U7nwi"
      },
      "source": [
        "#Callback 10% mae\n",
        "class myCallback(tf.keras.callbacks.Callback):\n",
        "  def on_epoch_end(self, epoch, logs={}):\n",
        "    if(logs.get('mae')<2.05 and logs.get('val_mae')<2.05):\n",
        "      print(\"MAE < 10% skala data\")\n",
        "      self.model.stop_training = True\n",
        "callbacks = myCallback()"
      ],
      "execution_count": 35,
      "outputs": []
    },
    {
      "cell_type": "code",
      "metadata": {
        "colab": {
          "base_uri": "https://localhost:8080/"
        },
        "id": "KU7FOV-X7t4J",
        "outputId": "cb72ce3a-dc39-4897-f656-911d05bee539"
      },
      "source": [
        "trainmodel = model.fit(train_set,epochs=100,\n",
        "                       validation_data=validation_set,verbose=2,callbacks=[callbacks])"
      ],
      "execution_count": 36,
      "outputs": [
        {
          "output_type": "stream",
          "text": [
            "Epoch 1/100\n",
            "1108/1108 - 230s - loss: 12.3514 - mae: 12.8208 - val_loss: 1.0775 - val_mae: 1.5161\n",
            "Epoch 2/100\n",
            "1108/1108 - 209s - loss: 1.0757 - mae: 1.5147 - val_loss: 1.0783 - val_mae: 1.5159\n",
            "MAE < 10% skala data\n"
          ],
          "name": "stdout"
        }
      ]
    },
    {
      "cell_type": "code",
      "metadata": {
        "colab": {
          "base_uri": "https://localhost:8080/",
          "height": 573
        },
        "id": "zKONAD9HUVJF",
        "outputId": "155f29c5-246f-4140-e8f2-835739cb2223"
      },
      "source": [
        "import matplotlib.pyplot as plt\n",
        "\n",
        "# MAE\n",
        "plt.plot(trainmodel.history['mae'])\n",
        "plt.plot(trainmodel.history['val_mae'])\n",
        "plt.title('MAE Model and Validation Mae')\n",
        "plt.ylabel('Mae')\n",
        "plt.xlabel('epoch')\n",
        "plt.legend(['Train', 'Val'], loc='upper right')\n",
        "plt.show()  \n",
        "\n",
        "#Loss\n",
        "plt.plot(trainmodel.history['loss'])\n",
        "plt.plot(trainmodel.history['val_loss'])\n",
        "plt.title('Loss Model')\n",
        "plt.ylabel('loss')\n",
        "plt.xlabel('epoch')\n",
        "plt.legend(['train', 'test'], loc='upper right')\n",
        "plt.show()"
      ],
      "execution_count": 38,
      "outputs": [
        {
          "output_type": "display_data",
          "data": {
            "image/png": "[encoded data removed]",
            "text/plain": [
              "<Figure size 432x288 with 1 Axes>"
            ]
          },
          "metadata": {
            "tags": [],
            "needs_background": "light"
          }
        },
        {
          "output_type": "display_data",
          "data": {
            "image/png": "[encoded data removed]",
            "text/plain": [
              "<Figure size 432x288 with 1 Axes>"
            ]
          },
          "metadata": {
            "tags": [],
            "needs_background": "light"
          }
        }
      ]
    }
  ]
}